{
  "nbformat": 4,
  "nbformat_minor": 0,
  "metadata": {
    "colab": {
      "name": "C120Challenge.ipynb",
      "provenance": [],
      "authorship_tag": "ABX9TyOelGww8ibyOubV8dLR+9Np",
      "include_colab_link": true
    },
    "kernelspec": {
      "name": "python3",
      "display_name": "Python 3"
    },
    "language_info": {
      "name": "python"
    }
  },
  "cells": [
    {
      "cell_type": "markdown",
      "metadata": {
        "id": "view-in-github",
        "colab_type": "text"
      },
      "source": [
        "<a href=\"https://colab.research.google.com/github/ShruthiAnand30/Mangoes/blob/master/C120Challenge.ipynb\" target=\"_parent\"><img src=\"https://colab.research.google.com/assets/colab-badge.svg\" alt=\"Open In Colab\"/></a>"
      ]
    },
    {
      "cell_type": "code",
      "metadata": {
        "id": "Jiz4FTNPuNzh"
      },
      "source": [
        "from sklearn import datasets \n",
        "wine = datasets.load_wine()\n"
      ],
      "execution_count": 1,
      "outputs": []
    },
    {
      "cell_type": "code",
      "metadata": {
        "colab": {
          "base_uri": "https://localhost:8080/"
        },
        "id": "UHzZqxAmudPQ",
        "outputId": "60cd18b7-be54-46f5-bd5f-3d49b676af12"
      },
      "source": [
        "print(\"features\", wine.feature_names)\n",
        "print(\"labels\", wine.target_names)\n"
      ],
      "execution_count": 2,
      "outputs": [
        {
          "output_type": "stream",
          "text": [
            "features ['alcohol', 'malic_acid', 'ash', 'alcalinity_of_ash', 'magnesium', 'total_phenols', 'flavanoids', 'nonflavanoid_phenols', 'proanthocyanins', 'color_intensity', 'hue', 'od280/od315_of_diluted_wines', 'proline']\n",
            "labels ['class_0' 'class_1' 'class_2']\n"
          ],
          "name": "stdout"
        }
      ]
    },
    {
      "cell_type": "code",
      "metadata": {
        "id": "foUKOM8Lu59j"
      },
      "source": [
        "from sklearn.model_selection import train_test_split\n",
        "X = wine.data\n",
        "y = wine.target\n",
        "x_train, x_test, y_train, y_test = train_test_split(X ,y ,test_size = 0.3, random_state = 109)"
      ],
      "execution_count": 9,
      "outputs": []
    },
    {
      "cell_type": "code",
      "metadata": {
        "colab": {
          "base_uri": "https://localhost:8080/"
        },
        "id": "1M1y2R5kvUKC",
        "outputId": "4dd9af20-afe6-4ced-bf60-d88ab88d0b54"
      },
      "source": [
        "from sklearn.naive_bayes import GaussianNB\n",
        "from sklearn import metrics\n",
        "\n",
        "model = GaussianNB()\n",
        "model.fit(x_train, y_train)\n",
        "\n",
        "y_pred = model.predict(x_test)\n",
        "\n",
        "print(\"accuracy\", metrics.accuracy_score(y_test, y_pred))"
      ],
      "execution_count": 10,
      "outputs": [
        {
          "output_type": "stream",
          "text": [
            "accuracy 0.9074074074074074\n"
          ],
          "name": "stdout"
        }
      ]
    }
  ]
}